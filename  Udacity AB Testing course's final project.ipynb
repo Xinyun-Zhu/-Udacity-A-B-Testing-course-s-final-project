{
 "cells": [
  {
   "cell_type": "code",
   "execution_count": 2,
   "id": "de89a0b6-2942-4e18-a9d9-8eb6f3fd7091",
   "metadata": {},
   "outputs": [],
   "source": [
    "import math\n",
    "n_pageviews=40000\n",
    "n_clicks=3200\n",
    "n_enroll=660\n",
    "ctp=0.08\n",
    "n_sample=5000\n",
    "\n",
    "click_through_probability=0.08 #clicks / pageviews\n",
    "gross_conversion=0.20625 # enroll / click\n",
    "retention=0.53 # payment / enroll\n",
    "net_conversion=0.1093125 # payment / click"
   ]
  },
  {
   "cell_type": "markdown",
   "id": "ec8b1b0a-1a28-4b4f-b15a-3d5247d34e76",
   "metadata": {},
   "source": [
    "### Udacity A/B Testing course's final project.\n",
    "\n",
    "* Experiment Overview: Free Trial Screener\n",
    "\n",
    "At the time of this experiment, Udacity courses currently have two options on the course overview page: \"start free trial\", and \"access course materials\". If the student clicks \"start free trial\", they will be asked to enter their credit card information, and then they will be enrolled in a free trial for the paid version of the course. After 14 days, they will automatically be charged unless they cancel first. If the student clicks \"access course materials\", they will be able to view the videos and take the quizzes for free, but they will not receive coaching support or a verified certificate, and they will not submit their final project for feedback.\n",
    "\n",
    "In the experiment, Udacity tested a change where if the student clicked \"start free trial\", they were asked how much time they had available to devote to the course. If the student indicated 5 or more hours per week, they would be taken through the checkout process as usual. If they indicated fewer than 5 hours per week, a message would appear indicating that Udacity courses usually require a greater time commitment for successful completion, and suggesting that the student might like to access the course materials for free. At this point, the student would have the option to continue enrolling in the free trial, or access the course materials for free instead. This screenshot shows what the experiment looks like.\n",
    "\n",
    "The hypothesis was that this might set clearer expectations for students upfront, thus reducing the number of frustrated students who left the free trial because they didn't have enough time—without significantly reducing the number of students to continue past the free trial and eventually complete the course. If this hypothesis held true, Udacity could improve the overall student experience and improve coaches' capacity to support students who are likely to complete the course.\n",
    "\n",
    "The unit of diversion is a cookie, although if the student enrolls in the free trial, they are tracked by user-id from that point forward. The same user-id cannot enroll in the free trial twice. For users that do not enroll, their user-id is not tracked in the experiment, even if they were signed in when they visited the course overview page.\n",
    "\n",
    "* Metric Choice\n",
    "\n",
    "Which of the following metrics would you choose to measure for this experiment and why?\n",
    "\n",
    "For each metric you choose, indicate whether you would use it as an invariant metric or an evaluation metric. The practical significance boundary for each metric, that is, the difference that would have to be observed before that was a meaningful change for the business, is given in parentheses. All practical significance boundaries are given as absolute changes.\n",
    "\n",
    "Any place \"unique cookies\" are mentioned, the uniqueness is determined by day. (That is, the same cookie visiting on different days would be counted twice.) User-ids are automatically unique since the site does not allow the same user-id to enroll twice.\n",
    "\n",
    "* Number of cookies: That is, number of unique cookies to view the course overview page. (${d}_{min}=3000$)\n",
    "* Number of user-ids: That is, number of users who enroll in the free trial. (${d}_{min}=50$)\n",
    "* Number of clicks: That is, number of unique cookies to click the \"Start free trial\" button (which happens before the free trial screener is trigger). (${d}_{min}=240$)\n",
    "* Click-through-probability: That is, number of unique cookies to click the \"Start free trial\" button divided by number of unique cookies to view the course overview page. (${d}_{min}=0.01$)\n",
    "* Gross conversion: That is, number of user-ids to complete checkout and enroll in the free trial divided by number of unique cookies to click the \"Start free trial\" button. (${d}_{min}=0.01$)\n",
    "* Retention: That is, number of user-ids to remain enrolled past the 14-day boundary (and thus make at least one payment) divided by number of user-ids to complete checkout. (${d}_{min}=0.01$)\n",
    "* Net conversion: That is, number of user-ids to remain enrolled past the 14-day boundary (and thus make at least one payment) divided by the number of unique cookies to click the \"Start free trial\" button. (${d}_{min}=0.0075$)\n",
    "\n",
    "You should also decide now what results you will be looking for in order to launch the experiment. Would a change in any one of your evaluation metrics be sufficient? Would you want to see multiple metrics all move or not move at the same time in order to launch? This decision will inform your choices while designing the experiment.\n",
    "\n",
    "\n",
    "The metric I choose:\n",
    "Invariant Metrics : number of cookies, number of clicks, click-through-probability.\n",
    "Evaluation Metrics : gross conversion, retention, net conversion.\n"
   ]
  },
  {
   "cell_type": "markdown",
   "id": "b26e68ee-9c34-445a-a14d-44b00e7563a4",
   "metadata": {},
   "source": [
    "## Calculate standard deviation"
   ]
  },
  {
   "cell_type": "code",
   "execution_count": 3,
   "id": "a4338aca-a63a-4c30-a56e-50ac56927832",
   "metadata": {},
   "outputs": [],
   "source": [
    "def calculator_std(p,N):\n",
    "    return math.sqrt((p*(1-p)/N))"
   ]
  },
  {
   "cell_type": "code",
   "execution_count": 4,
   "id": "bf1079c1-723f-4131-824c-0910318f4e3b",
   "metadata": {},
   "outputs": [
    {
     "data": {
      "text/plain": [
       "0.020230604137049392"
      ]
     },
     "execution_count": 4,
     "metadata": {},
     "output_type": "execute_result"
    }
   ],
   "source": [
    "std_grossConversion=calculator_std(gross_conversion,n_clicks/n_pageviews*n_sample)\n",
    "std_grossConversion"
   ]
  },
  {
   "cell_type": "code",
   "execution_count": 5,
   "id": "1da3042e-9974-4958-b95a-e3130fc7a8c9",
   "metadata": {},
   "outputs": [
    {
     "data": {
      "text/plain": [
       "0.05494901217850908"
      ]
     },
     "execution_count": 5,
     "metadata": {},
     "output_type": "execute_result"
    }
   ],
   "source": [
    "std_retention=calculator_std(retention,n_enroll/n_pageviews*n_sample)\n",
    "std_retention"
   ]
  },
  {
   "cell_type": "code",
   "execution_count": 6,
   "id": "bef3abb1-074f-44bc-860e-6bfcdeeab29b",
   "metadata": {},
   "outputs": [
    {
     "data": {
      "text/plain": [
       "0.01560154458248846"
      ]
     },
     "execution_count": 6,
     "metadata": {},
     "output_type": "execute_result"
    }
   ],
   "source": [
    "std_net_conversion=calculator_std(net_conversion,n_clicks/n_pageviews*n_sample)\n",
    "std_net_conversion"
   ]
  },
  {
   "cell_type": "markdown",
   "id": "61181049-5ee1-4951-9679-8e9d9bb96bf9",
   "metadata": {},
   "source": [
    "## calculate number of pageviews"
   ]
  },
  {
   "cell_type": "markdown",
   "id": "7aa77369-7781-44c7-84f9-f306d740e1ef",
   "metadata": {},
   "source": [
    "### sample size calculator\n",
    "\n",
    "https://www.evanmiller.org/ab-testing/sample-size.html"
   ]
  },
  {
   "cell_type": "code",
   "execution_count": 7,
   "id": "73516868-6436-4118-9c00-97c15285e4b0",
   "metadata": {},
   "outputs": [
    {
     "data": {
      "text/plain": [
       "645875.0"
      ]
     },
     "execution_count": 7,
     "metadata": {},
     "output_type": "execute_result"
    }
   ],
   "source": [
    "# gross conversion - Baseline rate: 20.625% - Minimum Detectable Effect: 0.01 - Sample size: 25835\n",
    "gross_conversion_pageviews_needed=25835*2*n_pageviews/n_clicks\n",
    "gross_conversion_pageviews_needed"
   ]
  },
  {
   "cell_type": "code",
   "execution_count": 8,
   "id": "60e9846e-e2f9-4f8a-8d30-772898a8df27",
   "metadata": {},
   "outputs": [
    {
     "data": {
      "text/plain": [
       "4741212.121212121"
      ]
     },
     "execution_count": 8,
     "metadata": {},
     "output_type": "execute_result"
    }
   ],
   "source": [
    "#retention - Baseline rate: 53% - Minimum Detectable Effect: 0.01 - Sample size: 39115\n",
    "retention_pageviews_needed=39115*2*n_pageviews/n_enroll\n",
    "retention_pageviews_needed"
   ]
  },
  {
   "cell_type": "code",
   "execution_count": 9,
   "id": "2d48c7ee-5775-4edb-8b1e-981777b337ac",
   "metadata": {},
   "outputs": [
    {
     "data": {
      "text/plain": [
       "685325.0"
      ]
     },
     "execution_count": 9,
     "metadata": {},
     "output_type": "execute_result"
    }
   ],
   "source": [
    "#net conversion - Baseline rate: 10.93125% - Minimum Detectable Effect: 0.0075 - Sample size: 27413\n",
    "net_conversion_pageviews_needed=27413*2*n_pageviews/n_clicks\n",
    "net_conversion_pageviews_needed"
   ]
  },
  {
   "cell_type": "markdown",
   "id": "972000f4-a857-4b57-99b6-9ebd9c2c0c37",
   "metadata": {},
   "source": [
    "## Duration and Exposure\n",
    "Duration and Exposure\n",
    "If we divert 100% of traffic, given 40,000 page views per day, the experiment would take ~ 119 days. If we eliminate retention, we are left with Gross Conversion and Net Conversion. This reduces the number of required pageviews to 685,325, and an ~ 18 day experiment with 100% diversion and ~ 35 days given 50% diversion.\n",
    "\n",
    "A 119 day experiment with 100% diversion of traffic presents both a business risk (potential for: frustrated students, lower conversion and retention, and inefficient use of coaching resources) and an opportunity risk (performing other experiments). However, in general, this is not a risky experiment as the change would not be expected to cause a precipitous drop in enrollment. In terms of timing, an 18 day experiment is more reasonable, but % diversion may be scaled down depending on other experiments of interest to be performed concurrently."
   ]
  },
  {
   "cell_type": "code",
   "execution_count": 10,
   "id": "1cbbb654-a825-43fc-b78c-5cdffee01d5d",
   "metadata": {},
   "outputs": [
    {
     "data": {
      "text/plain": [
       "34.26625"
      ]
     },
     "execution_count": 10,
     "metadata": {},
     "output_type": "execute_result"
    }
   ],
   "source": [
    "traffic_fraction=0.5\n",
    "duration=net_conversion_pageviews_needed/n_pageviews/traffic_fraction\n",
    "duration"
   ]
  },
  {
   "cell_type": "code",
   "execution_count": null,
   "id": "fc399cf7-f086-4ee5-aece-7fe33d306a3b",
   "metadata": {},
   "outputs": [],
   "source": []
  },
  {
   "cell_type": "markdown",
   "id": "1ed30d87-6d7a-48ba-94da-a2aca21fb8f7",
   "metadata": {},
   "source": [
    "## Sanity Check"
   ]
  },
  {
   "cell_type": "code",
   "execution_count": 11,
   "id": "45cce995-20d4-4ab9-a563-9028115a9723",
   "metadata": {},
   "outputs": [],
   "source": [
    "dates=['Sat, Oct 11', 'Sun, Oct 12', 'Mon, Oct 13', 'Tue, Oct 14',\n",
    "       'Wed, Oct 15', 'Thu, Oct 16', 'Fri, Oct 17', 'Sat, Oct 18',\n",
    "       'Sun, Oct 19', 'Mon, Oct 20', 'Tue, Oct 21', 'Wed, Oct 22',\n",
    "       'Thu, Oct 23', 'Fri, Oct 24', 'Sat, Oct 25', 'Sun, Oct 26',\n",
    "       'Mon, Oct 27', 'Tue, Oct 28', 'Wed, Oct 29', 'Thu, Oct 30',\n",
    "       'Fri, Oct 31', 'Sat, Nov 1', 'Sun, Nov 2', 'Mon, Nov 3',\n",
    "       'Tue, Nov 4', 'Wed, Nov 5', 'Thu, Nov 6', 'Fri, Nov 7',\n",
    "       'Sat, Nov 8', 'Sun, Nov 9', 'Mon, Nov 10', 'Tue, Nov 11',\n",
    "       'Wed, Nov 12', 'Thu, Nov 13', 'Fri, Nov 14', 'Sat, Nov 15',\n",
    "       'Sun, Nov 16']\n",
    "pageviews_cont=[ 7723,  9102, 10511,  9871, 10014,  9670,  9008,  7434,  8459,\n",
    "       10667, 10660,  9947,  8324,  9434,  8687,  8896,  9535,  9363,\n",
    "        9327,  9345,  8890,  8460,  8836,  9437,  9420,  9570,  9921,\n",
    "        9424,  9010,  9656, 10419,  9880, 10134,  9717,  9192,  8630,\n",
    "        8970]\n",
    "pageviews_exp=[ 7716,  9288, 10480,  9867,  9793,  9500,  9088,  7664,  8434,\n",
    "       10496, 10551,  9737,  8176,  9402,  8669,  8881,  9655,  9396,\n",
    "        9262,  9308,  8715,  8448,  8836,  9359,  9427,  9633,  9842,\n",
    "        9272,  8969,  9697, 10445,  9931, 10042,  9721,  9304,  8668,\n",
    "        8988]\n",
    "clicks_cont=[687, 779, 909, 836, 837, 823, 748, 632, 691, 861, 867, 838, 665,\n",
    "       673, 691, 708, 759, 736, 739, 734, 706, 681, 693, 788, 781, 805,\n",
    "       830, 781, 756, 825, 874, 830, 801, 814, 735, 743, 722]\n",
    "clicks_exp=[686, 785, 884, 827, 832, 788, 780, 652, 697, 860, 864, 801, 642,\n",
    "       697, 669, 693, 771, 736, 727, 728, 722, 695, 724, 789, 743, 808,\n",
    "       831, 767, 760, 850, 851, 831, 802, 829, 770, 724, 710]\n",
    "enrolls_cont=[134, 147, 167, 156, 163, 138, 146, 110, 131, 165, 196, 162, 127,\n",
    "       220, 176, 161, 233, 154, 196, 167, 174, 156, 206]\n",
    "enrolls_exp=[105, 116, 145, 138, 140, 129, 127,  94, 120, 153, 143, 128, 122,\n",
    "       194, 127, 153, 213, 162, 201, 207, 182, 142, 182]\n",
    "payment_cont=[ 70,  70,  95, 105,  64,  82,  76,  70,  60,  97, 105,  92,  56,\n",
    "       122, 128, 104, 124,  91,  86,  75, 101,  93,  67]\n",
    "payment_exp=[ 34,  91,  79,  92,  94,  61,  44,  62,  77,  98,  71,  70,  68,\n",
    "        94,  81, 101, 119, 120,  96,  67, 123, 100, 103]"
   ]
  },
  {
   "cell_type": "code",
   "execution_count": 12,
   "id": "b91aa5d9-fae9-4425-853b-c82385b91ce2",
   "metadata": {},
   "outputs": [],
   "source": [
    "import pandas as pd\n",
    "column_name=[\"dates\", \"pageviews_cont\",\"pageviews_exp\",\"clicks_cont\",\"clicks_exp\"]\n",
    "df_pageview_click = pd.DataFrame(list(zip(dates, pageviews_cont,pageviews_exp,clicks_cont,clicks_exp)), columns =column_name)"
   ]
  },
  {
   "cell_type": "code",
   "execution_count": 36,
   "id": "3c2c0d89-ae69-4310-8cfc-2567948359c2",
   "metadata": {},
   "outputs": [],
   "source": [
    "column_name2=[\"enrolls_cont\",\"enrolls_exp\",\"payment_cont\",\"payment_exp\"]\n",
    "df_enrolls_payment = pd.DataFrame(list(zip(enrolls_cont,enrolls_exp,payment_cont,payment_exp)), columns =column_name2)"
   ]
  },
  {
   "cell_type": "code",
   "execution_count": 13,
   "id": "f92ff976-3bb6-440c-933f-e0f4e50029a4",
   "metadata": {},
   "outputs": [
    {
     "data": {
      "text/html": [
       "<div>\n",
       "<style scoped>\n",
       "    .dataframe tbody tr th:only-of-type {\n",
       "        vertical-align: middle;\n",
       "    }\n",
       "\n",
       "    .dataframe tbody tr th {\n",
       "        vertical-align: top;\n",
       "    }\n",
       "\n",
       "    .dataframe thead th {\n",
       "        text-align: right;\n",
       "    }\n",
       "</style>\n",
       "<table border=\"1\" class=\"dataframe\">\n",
       "  <thead>\n",
       "    <tr style=\"text-align: right;\">\n",
       "      <th></th>\n",
       "      <th>dates</th>\n",
       "      <th>pageviews_cont</th>\n",
       "      <th>pageviews_exp</th>\n",
       "      <th>clicks_cont</th>\n",
       "      <th>clicks_exp</th>\n",
       "    </tr>\n",
       "  </thead>\n",
       "  <tbody>\n",
       "    <tr>\n",
       "      <th>0</th>\n",
       "      <td>Sat, Oct 11</td>\n",
       "      <td>7723</td>\n",
       "      <td>7716</td>\n",
       "      <td>687</td>\n",
       "      <td>686</td>\n",
       "    </tr>\n",
       "    <tr>\n",
       "      <th>1</th>\n",
       "      <td>Sun, Oct 12</td>\n",
       "      <td>9102</td>\n",
       "      <td>9288</td>\n",
       "      <td>779</td>\n",
       "      <td>785</td>\n",
       "    </tr>\n",
       "    <tr>\n",
       "      <th>2</th>\n",
       "      <td>Mon, Oct 13</td>\n",
       "      <td>10511</td>\n",
       "      <td>10480</td>\n",
       "      <td>909</td>\n",
       "      <td>884</td>\n",
       "    </tr>\n",
       "    <tr>\n",
       "      <th>3</th>\n",
       "      <td>Tue, Oct 14</td>\n",
       "      <td>9871</td>\n",
       "      <td>9867</td>\n",
       "      <td>836</td>\n",
       "      <td>827</td>\n",
       "    </tr>\n",
       "    <tr>\n",
       "      <th>4</th>\n",
       "      <td>Wed, Oct 15</td>\n",
       "      <td>10014</td>\n",
       "      <td>9793</td>\n",
       "      <td>837</td>\n",
       "      <td>832</td>\n",
       "    </tr>\n",
       "  </tbody>\n",
       "</table>\n",
       "</div>"
      ],
      "text/plain": [
       "         dates  pageviews_cont  pageviews_exp  clicks_cont  clicks_exp\n",
       "0  Sat, Oct 11            7723           7716          687         686\n",
       "1  Sun, Oct 12            9102           9288          779         785\n",
       "2  Mon, Oct 13           10511          10480          909         884\n",
       "3  Tue, Oct 14            9871           9867          836         827\n",
       "4  Wed, Oct 15           10014           9793          837         832"
      ]
     },
     "execution_count": 13,
     "metadata": {},
     "output_type": "execute_result"
    }
   ],
   "source": [
    "df_pageview_click.head()"
   ]
  },
  {
   "cell_type": "markdown",
   "id": "b0b79232-ecc9-41e0-8a3e-bc6814002f1a",
   "metadata": {},
   "source": [
    "### pageview interval"
   ]
  },
  {
   "cell_type": "code",
   "execution_count": 14,
   "id": "5a156f17-097c-4dd8-8825-8f285b963c61",
   "metadata": {},
   "outputs": [
    {
     "data": {
      "text/plain": [
       "345543"
      ]
     },
     "execution_count": 14,
     "metadata": {},
     "output_type": "execute_result"
    }
   ],
   "source": [
    "sum_pageviews_cont=df_pageview_click['pageviews_cont'].sum()\n",
    "sum_pageviews_cont"
   ]
  },
  {
   "cell_type": "code",
   "execution_count": 15,
   "id": "d14dc071-c26e-47d7-91bf-4d527257073b",
   "metadata": {},
   "outputs": [
    {
     "data": {
      "text/plain": [
       "344660"
      ]
     },
     "execution_count": 15,
     "metadata": {},
     "output_type": "execute_result"
    }
   ],
   "source": [
    "sum_pageviews_exp=df_pageview_click['pageviews_exp'].sum()\n",
    "sum_pageviews_exp"
   ]
  },
  {
   "cell_type": "code",
   "execution_count": 16,
   "id": "613279a0-72df-4ea6-8ead-a5480ce7ce2c",
   "metadata": {},
   "outputs": [
    {
     "data": {
      "text/plain": [
       "0.0006018407402943247"
      ]
     },
     "execution_count": 16,
     "metadata": {},
     "output_type": "execute_result"
    }
   ],
   "source": [
    "N=sum_pageviews_cont+sum_pageviews_exp\n",
    "SD_pageviews=calculator_std(0.5,N)\n",
    "SD_pageviews"
   ]
  },
  {
   "cell_type": "code",
   "execution_count": 17,
   "id": "46453bfd-4290-4c77-b2bd-1e4ce79b072e",
   "metadata": {},
   "outputs": [
    {
     "name": "stdout",
     "output_type": "stream",
     "text": [
      "Confidence Interval for pageviews: [0.4988,0.5012]\n",
      "Observed:  0.5006\n"
     ]
    }
   ],
   "source": [
    "margin_Error_pageviews=1.96*SD_pageviews\n",
    "ci_min,ci_max=0.5-margin_Error_pageviews,0.5+margin_Error_pageviews\n",
    "print(\"Confidence Interval for pageviews: [{},{}]\".format(round(ci_min,4),round(ci_max,4)))\n",
    "print(\"Observed: \",round(sum_pageviews_cont/(sum_pageviews_cont+sum_pageviews_exp),4))"
   ]
  },
  {
   "cell_type": "code",
   "execution_count": 53,
   "id": "a26aa5c5-4116-48f0-a93f-d24c0f4822e8",
   "metadata": {},
   "outputs": [],
   "source": [
    "#Since 0.5006 is in the interval [0.4988,0.5012] so pass."
   ]
  },
  {
   "cell_type": "markdown",
   "id": "1620be34-9fad-4345-af12-b5a8bcdddbd3",
   "metadata": {},
   "source": [
    "### clicks interval"
   ]
  },
  {
   "cell_type": "code",
   "execution_count": 19,
   "id": "30437f26-b301-4bd8-9dae-ae171d80cd10",
   "metadata": {},
   "outputs": [
    {
     "name": "stdout",
     "output_type": "stream",
     "text": [
      "Confidence Interval for click: [0.4959,0.5041]\n",
      "Observed:  0.5005\n"
     ]
    }
   ],
   "source": [
    "sum_click_cont=df_pageview_click['clicks_cont'].sum()\n",
    "sum_click_exp=df_pageview_click['clicks_exp'].sum()\n",
    "N_click=sum_click_cont+sum_click_exp\n",
    "SD_click=calculator_std(0.5,N_click)\n",
    "margin_Error_click=1.96*SD_click\n",
    "ci_min,ci_max=0.5-margin_Error_click,0.5+margin_Error_click\n",
    "print(\"Confidence Interval for click: [{},{}]\".format(round(ci_min,4),round(ci_max,4)))\n",
    "print(\"Observed: \",round(sum_click_cont/(sum_click_cont+sum_click_exp),4))"
   ]
  },
  {
   "cell_type": "code",
   "execution_count": 64,
   "id": "8bb8d4b8-6c03-4a1a-a15a-0b5003319f8b",
   "metadata": {},
   "outputs": [],
   "source": [
    "#Since 0.5005 is in the interval [0.4959,0.5041] so pass."
   ]
  },
  {
   "cell_type": "markdown",
   "id": "709d2f7d-c7e5-446a-8300-382da6bb7f5c",
   "metadata": {},
   "source": [
    "### click_through_probability interval"
   ]
  },
  {
   "cell_type": "code",
   "execution_count": 20,
   "id": "435cf87d-8460-4031-891f-d35a3504a804",
   "metadata": {},
   "outputs": [
    {
     "name": "stdout",
     "output_type": "stream",
     "text": [
      "Confidence Interval for ctp: [-0.0013,0.0013]\n",
      "Observed:  0.0001\n"
     ]
    }
   ],
   "source": [
    "\"\"\"click_through_probability\"\"\"\n",
    "ctp_cont=sum_click_cont/sum_pageviews_cont\n",
    "ctp_exp=sum_click_exp/sum_pageviews_exp\n",
    "d_hat=ctp_exp-ctp_cont\n",
    "ctp_pool=(sum_click_cont+sum_click_exp)/(sum_pageviews_cont+sum_pageviews_exp)\n",
    "SD_ctp=(ctp_pool*(1-ctp_pool)*(1/sum_pageviews_cont+1/sum_pageviews_exp))**0.5\n",
    "m=1.96*SD_ctp\n",
    "ci_min,ci_max=-m,m\n",
    "print(\"Confidence Interval for ctp: [{},{}]\".format(round(ci_min,4),round(ci_max,4)))\n",
    "print(\"Observed: \",round(d_hat,4))"
   ]
  },
  {
   "cell_type": "code",
   "execution_count": 70,
   "id": "1877b6ba-4d06-40f1-abef-690831411126",
   "metadata": {},
   "outputs": [],
   "source": [
    "#Since 0.0001 is in the interval [0.4959,0.5041] so pass."
   ]
  },
  {
   "cell_type": "markdown",
   "id": "2e51fa9d-3e5e-43f3-8d6f-a7035fa33a29",
   "metadata": {},
   "source": [
    "## Effective Size Test"
   ]
  },
  {
   "cell_type": "markdown",
   "id": "cc816841-448e-4edc-a1d1-cc6d6c66244d",
   "metadata": {},
   "source": [
    "##### Gross conversion=enrollment/click\n",
    "##### Net conversion=payment/click"
   ]
  },
  {
   "cell_type": "code",
   "execution_count": 21,
   "id": "71627648-85cc-4f9c-be1a-63bda44462ce",
   "metadata": {},
   "outputs": [],
   "source": [
    "column_name=[\"dates\", \"pageviews_cont\",\"pageviews_exp\",\"clicks_cont\",\"clicks_exp\",\"enrolls_cont\",\"enrolls_exp\",\"payment_cont\",\"payment_exp\"]\n",
    "df = pd.DataFrame(list(zip(dates, pageviews_cont,pageviews_exp,clicks_cont,clicks_exp,enrolls_cont,enrolls_exp,payment_cont,payment_exp)), columns =column_name)"
   ]
  },
  {
   "cell_type": "code",
   "execution_count": 22,
   "id": "eae9140d-ef9f-4f12-8e55-c3abfe737372",
   "metadata": {},
   "outputs": [
    {
     "data": {
      "text/html": [
       "<div>\n",
       "<style scoped>\n",
       "    .dataframe tbody tr th:only-of-type {\n",
       "        vertical-align: middle;\n",
       "    }\n",
       "\n",
       "    .dataframe tbody tr th {\n",
       "        vertical-align: top;\n",
       "    }\n",
       "\n",
       "    .dataframe thead th {\n",
       "        text-align: right;\n",
       "    }\n",
       "</style>\n",
       "<table border=\"1\" class=\"dataframe\">\n",
       "  <thead>\n",
       "    <tr style=\"text-align: right;\">\n",
       "      <th></th>\n",
       "      <th>dates</th>\n",
       "      <th>pageviews_cont</th>\n",
       "      <th>pageviews_exp</th>\n",
       "      <th>clicks_cont</th>\n",
       "      <th>clicks_exp</th>\n",
       "      <th>enrolls_cont</th>\n",
       "      <th>enrolls_exp</th>\n",
       "      <th>payment_cont</th>\n",
       "      <th>payment_exp</th>\n",
       "    </tr>\n",
       "  </thead>\n",
       "  <tbody>\n",
       "    <tr>\n",
       "      <th>0</th>\n",
       "      <td>Sat, Oct 11</td>\n",
       "      <td>7723</td>\n",
       "      <td>7716</td>\n",
       "      <td>687</td>\n",
       "      <td>686</td>\n",
       "      <td>134</td>\n",
       "      <td>105</td>\n",
       "      <td>70</td>\n",
       "      <td>34</td>\n",
       "    </tr>\n",
       "    <tr>\n",
       "      <th>1</th>\n",
       "      <td>Sun, Oct 12</td>\n",
       "      <td>9102</td>\n",
       "      <td>9288</td>\n",
       "      <td>779</td>\n",
       "      <td>785</td>\n",
       "      <td>147</td>\n",
       "      <td>116</td>\n",
       "      <td>70</td>\n",
       "      <td>91</td>\n",
       "    </tr>\n",
       "    <tr>\n",
       "      <th>2</th>\n",
       "      <td>Mon, Oct 13</td>\n",
       "      <td>10511</td>\n",
       "      <td>10480</td>\n",
       "      <td>909</td>\n",
       "      <td>884</td>\n",
       "      <td>167</td>\n",
       "      <td>145</td>\n",
       "      <td>95</td>\n",
       "      <td>79</td>\n",
       "    </tr>\n",
       "    <tr>\n",
       "      <th>3</th>\n",
       "      <td>Tue, Oct 14</td>\n",
       "      <td>9871</td>\n",
       "      <td>9867</td>\n",
       "      <td>836</td>\n",
       "      <td>827</td>\n",
       "      <td>156</td>\n",
       "      <td>138</td>\n",
       "      <td>105</td>\n",
       "      <td>92</td>\n",
       "    </tr>\n",
       "    <tr>\n",
       "      <th>4</th>\n",
       "      <td>Wed, Oct 15</td>\n",
       "      <td>10014</td>\n",
       "      <td>9793</td>\n",
       "      <td>837</td>\n",
       "      <td>832</td>\n",
       "      <td>163</td>\n",
       "      <td>140</td>\n",
       "      <td>64</td>\n",
       "      <td>94</td>\n",
       "    </tr>\n",
       "  </tbody>\n",
       "</table>\n",
       "</div>"
      ],
      "text/plain": [
       "         dates  pageviews_cont  pageviews_exp  clicks_cont  clicks_exp  \\\n",
       "0  Sat, Oct 11            7723           7716          687         686   \n",
       "1  Sun, Oct 12            9102           9288          779         785   \n",
       "2  Mon, Oct 13           10511          10480          909         884   \n",
       "3  Tue, Oct 14            9871           9867          836         827   \n",
       "4  Wed, Oct 15           10014           9793          837         832   \n",
       "\n",
       "   enrolls_cont  enrolls_exp  payment_cont  payment_exp  \n",
       "0           134          105            70           34  \n",
       "1           147          116            70           91  \n",
       "2           167          145            95           79  \n",
       "3           156          138           105           92  \n",
       "4           163          140            64           94  "
      ]
     },
     "execution_count": 22,
     "metadata": {},
     "output_type": "execute_result"
    }
   ],
   "source": [
    "df.head()"
   ]
  },
  {
   "cell_type": "code",
   "execution_count": 23,
   "id": "c04b2962-4e21-4774-b27e-b8f516d6ecfa",
   "metadata": {},
   "outputs": [],
   "source": [
    "n_enrollment_exp=df['enrolls_exp'].sum()\n",
    "n_enrollment_cont=df['enrolls_cont'].sum()\n",
    "n_payment_exp=df['payment_exp'].sum()\n",
    "n_payment_cont=df['payment_cont'].sum()\n",
    "n_click_exp=df['clicks_exp'].sum()\n",
    "n_click_cont=df['clicks_cont'].sum()"
   ]
  },
  {
   "cell_type": "code",
   "execution_count": 24,
   "id": "1d3a33f5-a10b-4c68-ae2f-78acf9795c92",
   "metadata": {},
   "outputs": [
    {
     "name": "stdout",
     "output_type": "stream",
     "text": [
      "3423 3785 1945 2033 17260 17293\n"
     ]
    }
   ],
   "source": [
    "print(n_enrollment_exp,\n",
    "n_enrollment_cont,\n",
    "n_payment_exp,\n",
    "n_payment_cont,\n",
    "n_click_exp,\n",
    "n_click_cont)"
   ]
  },
  {
   "cell_type": "code",
   "execution_count": 25,
   "id": "b30e1a76-bfc7-44a2-a8ed-86d08f524686",
   "metadata": {},
   "outputs": [],
   "source": [
    "p_pool=(n_enrollment_exp+n_enrollment_cont)/(n_click_exp+n_click_cont)\n",
    "SE_pool=(p_pool*(1-p_pool)*(1/n_click_exp+1/n_click_cont))**0.5\n",
    "d=n_enrollment_exp/n_click_exp-n_enrollment_cont/n_click_cont\n",
    "m=SE_pool*1.96"
   ]
  },
  {
   "cell_type": "code",
   "execution_count": 26,
   "id": "02a7f0da-8e49-4d01-92cb-58973affb141",
   "metadata": {},
   "outputs": [
    {
     "name": "stdout",
     "output_type": "stream",
     "text": [
      "0.20860706740369866 0.004371675385225936 -0.020554874580361565 0.008568483755042836\n"
     ]
    }
   ],
   "source": [
    "print(p_pool,SE_pool,d,m)"
   ]
  },
  {
   "cell_type": "code",
   "execution_count": 27,
   "id": "f496f719-3e6e-4cad-ba4f-e12c24633785",
   "metadata": {},
   "outputs": [
    {
     "name": "stdout",
     "output_type": "stream",
     "text": [
      "Confidence Interval for Gross conversion: [-0.02912,-0.01199]\n",
      "statistically significant since confidence interval does not include 0.\n"
     ]
    }
   ],
   "source": [
    "ci_min,ci_max=d-m,d+m\n",
    "print(\"Confidence Interval for Gross conversion: [{},{}]\".format(round(ci_min,5),round(ci_max,5)))\n",
    "print(\"statistically significant since confidence interval does not include 0.\")"
   ]
  },
  {
   "cell_type": "code",
   "execution_count": 28,
   "id": "b83a1c62-0d3d-4faa-a929-3299614a5a38",
   "metadata": {},
   "outputs": [],
   "source": [
    "p_pool=(n_payment_exp+n_payment_cont)/(n_click_exp+n_click_cont)\n",
    "SE_pool=(p_pool*(1-p_pool)*(1/n_click_exp+1/n_click_cont))**0.5\n",
    "d=n_payment_exp/n_click_exp-n_payment_cont/n_click_cont\n",
    "m=SE_pool*1.96"
   ]
  },
  {
   "cell_type": "code",
   "execution_count": 29,
   "id": "559cdf29-1599-4630-b02d-535335b68d90",
   "metadata": {},
   "outputs": [
    {
     "name": "stdout",
     "output_type": "stream",
     "text": [
      "0.1151274853124186 0.0034341335129324238 -0.0048737226745441675 0.0067309016853475505\n"
     ]
    }
   ],
   "source": [
    "print(p_pool,SE_pool,d,m)"
   ]
  },
  {
   "cell_type": "code",
   "execution_count": 30,
   "id": "aad3d466-91ff-4a9d-9d53-a899a96722be",
   "metadata": {},
   "outputs": [
    {
     "name": "stdout",
     "output_type": "stream",
     "text": [
      "Confidence Interval for Net conversion: [-0.0116,0.00186]\n",
      "not statistically significant since confidence interval includes 0.\n"
     ]
    }
   ],
   "source": [
    "ci_min,ci_max=d-m,d+m\n",
    "print(\"Confidence Interval for Net conversion: [{},{}]\".format(round(ci_min,5),round(ci_max,5)))\n",
    "print(\"not statistically significant since confidence interval includes 0.\")"
   ]
  },
  {
   "cell_type": "markdown",
   "id": "c09a9d66-66b2-489b-a0fc-70f2cb427721",
   "metadata": {},
   "source": [
    "## Effective Size Test"
   ]
  },
  {
   "cell_type": "code",
   "execution_count": 31,
   "id": "3d23d71d-4598-4cd3-a897-0b74b0cd8606",
   "metadata": {},
   "outputs": [
    {
     "data": {
      "text/html": [
       "<div>\n",
       "<style scoped>\n",
       "    .dataframe tbody tr th:only-of-type {\n",
       "        vertical-align: middle;\n",
       "    }\n",
       "\n",
       "    .dataframe tbody tr th {\n",
       "        vertical-align: top;\n",
       "    }\n",
       "\n",
       "    .dataframe thead th {\n",
       "        text-align: right;\n",
       "    }\n",
       "</style>\n",
       "<table border=\"1\" class=\"dataframe\">\n",
       "  <thead>\n",
       "    <tr style=\"text-align: right;\">\n",
       "      <th></th>\n",
       "      <th>dates</th>\n",
       "      <th>pageviews_cont</th>\n",
       "      <th>pageviews_exp</th>\n",
       "      <th>clicks_cont</th>\n",
       "      <th>clicks_exp</th>\n",
       "      <th>enrolls_cont</th>\n",
       "      <th>enrolls_exp</th>\n",
       "      <th>payment_cont</th>\n",
       "      <th>payment_exp</th>\n",
       "    </tr>\n",
       "  </thead>\n",
       "  <tbody>\n",
       "    <tr>\n",
       "      <th>0</th>\n",
       "      <td>Sat, Oct 11</td>\n",
       "      <td>7723</td>\n",
       "      <td>7716</td>\n",
       "      <td>687</td>\n",
       "      <td>686</td>\n",
       "      <td>134</td>\n",
       "      <td>105</td>\n",
       "      <td>70</td>\n",
       "      <td>34</td>\n",
       "    </tr>\n",
       "    <tr>\n",
       "      <th>1</th>\n",
       "      <td>Sun, Oct 12</td>\n",
       "      <td>9102</td>\n",
       "      <td>9288</td>\n",
       "      <td>779</td>\n",
       "      <td>785</td>\n",
       "      <td>147</td>\n",
       "      <td>116</td>\n",
       "      <td>70</td>\n",
       "      <td>91</td>\n",
       "    </tr>\n",
       "    <tr>\n",
       "      <th>2</th>\n",
       "      <td>Mon, Oct 13</td>\n",
       "      <td>10511</td>\n",
       "      <td>10480</td>\n",
       "      <td>909</td>\n",
       "      <td>884</td>\n",
       "      <td>167</td>\n",
       "      <td>145</td>\n",
       "      <td>95</td>\n",
       "      <td>79</td>\n",
       "    </tr>\n",
       "    <tr>\n",
       "      <th>3</th>\n",
       "      <td>Tue, Oct 14</td>\n",
       "      <td>9871</td>\n",
       "      <td>9867</td>\n",
       "      <td>836</td>\n",
       "      <td>827</td>\n",
       "      <td>156</td>\n",
       "      <td>138</td>\n",
       "      <td>105</td>\n",
       "      <td>92</td>\n",
       "    </tr>\n",
       "    <tr>\n",
       "      <th>4</th>\n",
       "      <td>Wed, Oct 15</td>\n",
       "      <td>10014</td>\n",
       "      <td>9793</td>\n",
       "      <td>837</td>\n",
       "      <td>832</td>\n",
       "      <td>163</td>\n",
       "      <td>140</td>\n",
       "      <td>64</td>\n",
       "      <td>94</td>\n",
       "    </tr>\n",
       "  </tbody>\n",
       "</table>\n",
       "</div>"
      ],
      "text/plain": [
       "         dates  pageviews_cont  pageviews_exp  clicks_cont  clicks_exp  \\\n",
       "0  Sat, Oct 11            7723           7716          687         686   \n",
       "1  Sun, Oct 12            9102           9288          779         785   \n",
       "2  Mon, Oct 13           10511          10480          909         884   \n",
       "3  Tue, Oct 14            9871           9867          836         827   \n",
       "4  Wed, Oct 15           10014           9793          837         832   \n",
       "\n",
       "   enrolls_cont  enrolls_exp  payment_cont  payment_exp  \n",
       "0           134          105            70           34  \n",
       "1           147          116            70           91  \n",
       "2           167          145            95           79  \n",
       "3           156          138           105           92  \n",
       "4           163          140            64           94  "
      ]
     },
     "execution_count": 31,
     "metadata": {},
     "output_type": "execute_result"
    }
   ],
   "source": [
    "df.head()"
   ]
  },
  {
   "cell_type": "code",
   "execution_count": 32,
   "id": "189410bc-3825-4ea0-88fa-b11e2017896a",
   "metadata": {},
   "outputs": [],
   "source": [
    "df['Gros_conversion_exp']=df['enrolls_exp']/df['clicks_exp']\n",
    "df['Gros_conversion_cont']=df['enrolls_cont']/df['clicks_cont']"
   ]
  },
  {
   "cell_type": "code",
   "execution_count": 33,
   "id": "45617901-ae43-49af-8f28-60068b744943",
   "metadata": {},
   "outputs": [
    {
     "name": "stdout",
     "output_type": "stream",
     "text": [
      "19\n",
      "23\n",
      "since the two-tail P value is 0.0026 lower than 0.05, does not pass sign test\n"
     ]
    }
   ],
   "source": [
    "#number of days experiment Gross conversion lower than control Grossconversion\n",
    "print(len(df[df['Gros_conversion_exp']-df['Gros_conversion_cont']<0]))\n",
    "#total days\n",
    "print(len(df))\n",
    "print('since the two-tail P value is 0.0026 lower than 0.05, does not pass sign test')\n",
    "# use this online calculator calculate p value\n",
    "#https://www.graphpad.com/quickcalcs/binomial1.cfm"
   ]
  },
  {
   "cell_type": "code",
   "execution_count": 34,
   "id": "ea1d392c-e4f3-4f43-9f15-9e9863cfe439",
   "metadata": {},
   "outputs": [],
   "source": [
    "df['Net_conversion_exp']=df['payment_exp']/df['clicks_exp']\n",
    "df['Net_conversion_cont']=df['payment_cont']/df['clicks_cont']"
   ]
  },
  {
   "cell_type": "code",
   "execution_count": 35,
   "id": "7f2a345a-56aa-4ec5-93fa-a1650bfb316b",
   "metadata": {},
   "outputs": [
    {
     "name": "stdout",
     "output_type": "stream",
     "text": [
      "13\n",
      "23\n",
      "since the two-tail P value is 0.6776 higher than 0.05, passes sign test\n"
     ]
    }
   ],
   "source": [
    "#number of days experiment Net conversion lower than control Grossconversion\n",
    "print(len(df[df['Net_conversion_exp']-df['Net_conversion_cont']<0]))\n",
    "#total days\n",
    "print(len(df))\n",
    "print('since the two-tail P value is 0.6776 higher than 0.05, passes sign test')"
   ]
  },
  {
   "cell_type": "code",
   "execution_count": null,
   "id": "ee99d045-9600-4d34-a3ca-9ec468579645",
   "metadata": {},
   "outputs": [],
   "source": []
  }
 ],
 "metadata": {
  "kernelspec": {
   "display_name": "Python 3",
   "language": "python",
   "name": "python3"
  },
  "language_info": {
   "codemirror_mode": {
    "name": "ipython",
    "version": 3
   },
   "file_extension": ".py",
   "mimetype": "text/x-python",
   "name": "python",
   "nbconvert_exporter": "python",
   "pygments_lexer": "ipython3",
   "version": "3.8.8"
  }
 },
 "nbformat": 4,
 "nbformat_minor": 5
}
